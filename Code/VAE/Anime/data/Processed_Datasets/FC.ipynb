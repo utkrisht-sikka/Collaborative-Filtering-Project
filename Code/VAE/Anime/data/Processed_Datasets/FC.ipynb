{
  "nbformat": 4,
  "nbformat_minor": 0,
  "metadata": {
    "colab": {
      "name": "FC.ipynb",
      "version": "0.3.2",
      "provenance": []
    },
    "kernelspec": {
      "name": "python3",
      "display_name": "Python 3"
    }
  },
  "cells": [
    {
      "cell_type": "code",
      "metadata": {
        "id": "BwBeOhCaERjC",
        "colab_type": "code",
        "colab": {}
      },
      "source": [
        "import numpy as np\n",
        "import pandas as pd"
      ],
      "execution_count": 0,
      "outputs": []
    },
    {
      "cell_type": "code",
      "metadata": {
        "id": "kBWUYelzE4R1",
        "colab_type": "code",
        "colab": {}
      },
      "source": [
        "title_dict = np.load('map_tilte.npy', allow_pickle=True).tolist()"
      ],
      "execution_count": 0,
      "outputs": []
    },
    {
      "cell_type": "code",
      "metadata": {
        "id": "lfGR9oltFwcf",
        "colab_type": "code",
        "colab": {
          "base_uri": "https://localhost:8080/",
          "height": 142
        },
        "outputId": "bb5a5368-adde-4b9c-fb6e-69e49b4e6f76"
      },
      "source": [
        "test = pd.read_csv('test.dat', sep='\\t', names=['reviewerID', 'asin', 'rate', 'title'])\n",
        "test[test.reviewerID == 0]"
      ],
      "execution_count": 18,
      "outputs": [
        {
          "output_type": "execute_result",
          "data": {
            "text/html": [
              "<div>\n",
              "<style scoped>\n",
              "    .dataframe tbody tr th:only-of-type {\n",
              "        vertical-align: middle;\n",
              "    }\n",
              "\n",
              "    .dataframe tbody tr th {\n",
              "        vertical-align: top;\n",
              "    }\n",
              "\n",
              "    .dataframe thead th {\n",
              "        text-align: right;\n",
              "    }\n",
              "</style>\n",
              "<table border=\"1\" class=\"dataframe\">\n",
              "  <thead>\n",
              "    <tr style=\"text-align: right;\">\n",
              "      <th></th>\n",
              "      <th>reviewerID</th>\n",
              "      <th>asin</th>\n",
              "      <th>rate</th>\n",
              "      <th>title</th>\n",
              "    </tr>\n",
              "  </thead>\n",
              "  <tbody>\n",
              "    <tr>\n",
              "      <th>11196</th>\n",
              "      <td>0</td>\n",
              "      <td>2471</td>\n",
              "      <td>2</td>\n",
              "      <td>Jagged Little Pill Acoustic</td>\n",
              "    </tr>\n",
              "    <tr>\n",
              "      <th>14517</th>\n",
              "      <td>0</td>\n",
              "      <td>1978</td>\n",
              "      <td>5</td>\n",
              "      <td>La Revancha Del Tango</td>\n",
              "    </tr>\n",
              "    <tr>\n",
              "      <th>16513</th>\n",
              "      <td>0</td>\n",
              "      <td>0</td>\n",
              "      <td>5</td>\n",
              "      <td>Memory of Trees</td>\n",
              "    </tr>\n",
              "  </tbody>\n",
              "</table>\n",
              "</div>"
            ],
            "text/plain": [
              "       reviewerID  asin  rate                        title\n",
              "11196           0  2471     2  Jagged Little Pill Acoustic\n",
              "14517           0  1978     5        La Revancha Del Tango\n",
              "16513           0     0     5              Memory of Trees"
            ]
          },
          "metadata": {
            "tags": []
          },
          "execution_count": 18
        }
      ]
    },
    {
      "cell_type": "markdown",
      "metadata": {
        "id": "PG2-igcjGgzs",
        "colab_type": "text"
      },
      "source": [
        "## Memory-based"
      ]
    },
    {
      "cell_type": "code",
      "metadata": {
        "id": "gnQKrVXnDurV",
        "colab_type": "code",
        "colab": {
          "base_uri": "https://localhost:8080/",
          "height": 153
        },
        "outputId": "a9098c97-03b2-4c74-d2d1-6cba9b7594eb"
      },
      "source": [
        "from caserec.recommenders.rating_prediction.itemknn import ItemKNN\n",
        "\n",
        "ItemKNN('train.dat', 'test.dat', 'rp_iknn.dat').compute()"
      ],
      "execution_count": 9,
      "outputs": [
        {
          "output_type": "stream",
          "text": [
            "[Case Recommender: Rating Prediction > ItemKNN Algorithm]\n",
            "\n",
            "train data:: 5036 users and 2581 items (34703 interactions) | sparsity:: 99.73%\n",
            "test data:: 4508 users and 2493 items (17093 interactions) | sparsity:: 99.85%\n",
            "\n",
            "training_time:: 10.051786 sec\n",
            "prediction_time:: 0.558465 sec\n",
            "Eval:: MAE: 0.710864 RMSE: 1.104636 \n"
          ],
          "name": "stdout"
        }
      ]
    },
    {
      "cell_type": "code",
      "metadata": {
        "id": "L1EoGufqFHJp",
        "colab_type": "code",
        "colab": {
          "base_uri": "https://localhost:8080/",
          "height": 142
        },
        "outputId": "9fcc6715-9345-4c8e-843d-df3a81a10553"
      },
      "source": [
        "predictions = pd.read_csv('rp_iknn.dat', sep='\\t', names=['reviewerID', 'asin', 'rate'])\n",
        "predictions['title'] = predictions.asin.map(title_dict)\n",
        "predictions.head(3)"
      ],
      "execution_count": 15,
      "outputs": [
        {
          "output_type": "execute_result",
          "data": {
            "text/html": [
              "<div>\n",
              "<style scoped>\n",
              "    .dataframe tbody tr th:only-of-type {\n",
              "        vertical-align: middle;\n",
              "    }\n",
              "\n",
              "    .dataframe tbody tr th {\n",
              "        vertical-align: top;\n",
              "    }\n",
              "\n",
              "    .dataframe thead th {\n",
              "        text-align: right;\n",
              "    }\n",
              "</style>\n",
              "<table border=\"1\" class=\"dataframe\">\n",
              "  <thead>\n",
              "    <tr style=\"text-align: right;\">\n",
              "      <th></th>\n",
              "      <th>reviewerID</th>\n",
              "      <th>asin</th>\n",
              "      <th>rate</th>\n",
              "      <th>title</th>\n",
              "    </tr>\n",
              "  </thead>\n",
              "  <tbody>\n",
              "    <tr>\n",
              "      <th>0</th>\n",
              "      <td>0</td>\n",
              "      <td>0</td>\n",
              "      <td>2.705333</td>\n",
              "      <td>Memory of Trees</td>\n",
              "    </tr>\n",
              "    <tr>\n",
              "      <th>1</th>\n",
              "      <td>0</td>\n",
              "      <td>1978</td>\n",
              "      <td>4.839800</td>\n",
              "      <td>La Revancha Del Tango</td>\n",
              "    </tr>\n",
              "    <tr>\n",
              "      <th>2</th>\n",
              "      <td>0</td>\n",
              "      <td>2471</td>\n",
              "      <td>4.478565</td>\n",
              "      <td>Jagged Little Pill Acoustic</td>\n",
              "    </tr>\n",
              "  </tbody>\n",
              "</table>\n",
              "</div>"
            ],
            "text/plain": [
              "   reviewerID  asin      rate                        title\n",
              "0           0     0  2.705333              Memory of Trees\n",
              "1           0  1978  4.839800        La Revancha Del Tango\n",
              "2           0  2471  4.478565  Jagged Little Pill Acoustic"
            ]
          },
          "metadata": {
            "tags": []
          },
          "execution_count": 15
        }
      ]
    },
    {
      "cell_type": "code",
      "metadata": {
        "id": "dqOhsX0XEIG_",
        "colab_type": "code",
        "colab": {
          "base_uri": "https://localhost:8080/",
          "height": 153
        },
        "outputId": "10857605-fd20-41d2-a412-056e83d8e805"
      },
      "source": [
        "from caserec.recommenders.rating_prediction.userknn import UserKNN\n",
        "\n",
        "UserKNN('train.dat', 'test.dat', 'rp_uknn.dat').compute()"
      ],
      "execution_count": 13,
      "outputs": [
        {
          "output_type": "stream",
          "text": [
            "[Case Recommender: Rating Prediction > UserKNN Algorithm]\n",
            "\n",
            "train data:: 5036 users and 2581 items (34703 interactions) | sparsity:: 99.73%\n",
            "test data:: 4508 users and 2493 items (17093 interactions) | sparsity:: 99.85%\n",
            "\n",
            "training_time:: 9.999057 sec\n",
            "prediction_time:: 3.507684 sec\n",
            "Eval:: MAE: 0.687115 RMSE: 1.008135 \n"
          ],
          "name": "stdout"
        }
      ]
    },
    {
      "cell_type": "code",
      "metadata": {
        "id": "fG8zLJsFFVN9",
        "colab_type": "code",
        "colab": {
          "base_uri": "https://localhost:8080/",
          "height": 142
        },
        "outputId": "71f85886-4531-4851-e97a-a3bb4d04118f"
      },
      "source": [
        "predictions = pd.read_csv('rp_uknn.dat', sep='\\t', names=['reviewerID', 'asin', 'rate'])\n",
        "predictions['title'] = predictions.asin.map(title_dict)\n",
        "predictions.head(3)"
      ],
      "execution_count": 16,
      "outputs": [
        {
          "output_type": "execute_result",
          "data": {
            "text/html": [
              "<div>\n",
              "<style scoped>\n",
              "    .dataframe tbody tr th:only-of-type {\n",
              "        vertical-align: middle;\n",
              "    }\n",
              "\n",
              "    .dataframe tbody tr th {\n",
              "        vertical-align: top;\n",
              "    }\n",
              "\n",
              "    .dataframe thead th {\n",
              "        text-align: right;\n",
              "    }\n",
              "</style>\n",
              "<table border=\"1\" class=\"dataframe\">\n",
              "  <thead>\n",
              "    <tr style=\"text-align: right;\">\n",
              "      <th></th>\n",
              "      <th>reviewerID</th>\n",
              "      <th>asin</th>\n",
              "      <th>rate</th>\n",
              "      <th>title</th>\n",
              "    </tr>\n",
              "  </thead>\n",
              "  <tbody>\n",
              "    <tr>\n",
              "      <th>0</th>\n",
              "      <td>0</td>\n",
              "      <td>0</td>\n",
              "      <td>5.000000</td>\n",
              "      <td>Memory of Trees</td>\n",
              "    </tr>\n",
              "    <tr>\n",
              "      <th>1</th>\n",
              "      <td>0</td>\n",
              "      <td>1978</td>\n",
              "      <td>4.736122</td>\n",
              "      <td>La Revancha Del Tango</td>\n",
              "    </tr>\n",
              "    <tr>\n",
              "      <th>2</th>\n",
              "      <td>0</td>\n",
              "      <td>2471</td>\n",
              "      <td>3.899040</td>\n",
              "      <td>Jagged Little Pill Acoustic</td>\n",
              "    </tr>\n",
              "  </tbody>\n",
              "</table>\n",
              "</div>"
            ],
            "text/plain": [
              "   reviewerID  asin      rate                        title\n",
              "0           0     0  5.000000              Memory of Trees\n",
              "1           0  1978  4.736122        La Revancha Del Tango\n",
              "2           0  2471  3.899040  Jagged Little Pill Acoustic"
            ]
          },
          "metadata": {
            "tags": []
          },
          "execution_count": 16
        }
      ]
    },
    {
      "cell_type": "markdown",
      "metadata": {
        "id": "lch6FzLoGF4F",
        "colab_type": "text"
      },
      "source": [
        "## Model-based"
      ]
    },
    {
      "cell_type": "code",
      "metadata": {
        "id": "hTgDDYUlGJTc",
        "colab_type": "code",
        "colab": {
          "base_uri": "https://localhost:8080/",
          "height": 187
        },
        "outputId": "f9683bc4-47bc-4055-bb6d-0f03216a6cf4"
      },
      "source": [
        "from caserec.recommenders.rating_prediction.matrixfactorization import MatrixFactorization\n",
        "\n",
        "MatrixFactorization('train.dat', 'test.dat', 'rp_mf.dat').compute()"
      ],
      "execution_count": 19,
      "outputs": [
        {
          "output_type": "stream",
          "text": [
            "[Case Recommender: Rating Prediction > Matrix Factorization]\n",
            "\n",
            "train data:: 5036 users and 2581 items (34703 interactions) | sparsity:: 99.73%\n",
            "test data:: 4508 users and 2493 items (17093 interactions) | sparsity:: 99.85%\n",
            "\n",
            "training_time:: 14.870324 sec\n",
            "prediction_time:: 0.051896 sec\n",
            "\n",
            "\n",
            "Eval:: MAE: 0.713848 RMSE: 0.979218 \n"
          ],
          "name": "stdout"
        }
      ]
    },
    {
      "cell_type": "code",
      "metadata": {
        "id": "uPF0WFUkGE3q",
        "colab_type": "code",
        "colab": {
          "base_uri": "https://localhost:8080/",
          "height": 142
        },
        "outputId": "1a70e882-7d42-4afe-d7d7-0616855c1fc5"
      },
      "source": [
        "predictions = pd.read_csv('rp_mf.dat', sep='\\t', names=['reviewerID', 'asin', 'rate'])\n",
        "predictions['title'] = predictions.asin.map(title_dict)\n",
        "predictions.head(3)"
      ],
      "execution_count": 20,
      "outputs": [
        {
          "output_type": "execute_result",
          "data": {
            "text/html": [
              "<div>\n",
              "<style scoped>\n",
              "    .dataframe tbody tr th:only-of-type {\n",
              "        vertical-align: middle;\n",
              "    }\n",
              "\n",
              "    .dataframe tbody tr th {\n",
              "        vertical-align: top;\n",
              "    }\n",
              "\n",
              "    .dataframe thead th {\n",
              "        text-align: right;\n",
              "    }\n",
              "</style>\n",
              "<table border=\"1\" class=\"dataframe\">\n",
              "  <thead>\n",
              "    <tr style=\"text-align: right;\">\n",
              "      <th></th>\n",
              "      <th>reviewerID</th>\n",
              "      <th>asin</th>\n",
              "      <th>rate</th>\n",
              "      <th>title</th>\n",
              "    </tr>\n",
              "  </thead>\n",
              "  <tbody>\n",
              "    <tr>\n",
              "      <th>0</th>\n",
              "      <td>0</td>\n",
              "      <td>2471</td>\n",
              "      <td>4.388470</td>\n",
              "      <td>Jagged Little Pill Acoustic</td>\n",
              "    </tr>\n",
              "    <tr>\n",
              "      <th>1</th>\n",
              "      <td>0</td>\n",
              "      <td>1978</td>\n",
              "      <td>4.943073</td>\n",
              "      <td>La Revancha Del Tango</td>\n",
              "    </tr>\n",
              "    <tr>\n",
              "      <th>2</th>\n",
              "      <td>0</td>\n",
              "      <td>0</td>\n",
              "      <td>4.829396</td>\n",
              "      <td>Memory of Trees</td>\n",
              "    </tr>\n",
              "  </tbody>\n",
              "</table>\n",
              "</div>"
            ],
            "text/plain": [
              "   reviewerID  asin      rate                        title\n",
              "0           0  2471  4.388470  Jagged Little Pill Acoustic\n",
              "1           0  1978  4.943073        La Revancha Del Tango\n",
              "2           0     0  4.829396              Memory of Trees"
            ]
          },
          "metadata": {
            "tags": []
          },
          "execution_count": 20
        }
      ]
    }
  ]
}