{
  "nbformat": 4,
  "nbformat_minor": 0,
  "metadata": {
    "kernelspec": {
      "display_name": "Python 3",
      "language": "python",
      "name": "python3"
    },
    "language_info": {
      "codemirror_mode": {
        "name": "ipython",
        "version": 3
      },
      "file_extension": ".py",
      "mimetype": "text/x-python",
      "name": "python",
      "nbconvert_exporter": "python",
      "pygments_lexer": "ipython3",
      "version": "3.7.3"
    },
    "colab": {
      "name": "RS_NonPersonalized.ipynb",
      "version": "0.3.2",
      "provenance": []
    }
  },
  "cells": [
    {
      "cell_type": "code",
      "metadata": {
        "id": "UzAb8mL9A7D_",
        "colab_type": "code",
        "colab": {
          "base_uri": "https://localhost:8080/",
          "height": 442
        },
        "outputId": "b8239530-747b-4b76-fcb7-8a2344469d5b"
      },
      "source": [
        "! wget https://github.com/caserec/Datasets-for-Recommneder-Systems/raw/master/Processed%20Datasets/AmazonMusic.tar.xz\n",
        "! tar -xf AmazonMusic.tar.xz\n",
        "! pip install caserecommender"
      ],
      "execution_count": 30,
      "outputs": [
        {
          "output_type": "stream",
          "text": [
            "--2019-09-04 20:48:25--  https://github.com/caserec/Datasets-for-Recommneder-Systems/raw/master/Processed%20Datasets/AmazonMusic.tar.xz\n",
            "Resolving github.com (github.com)... 192.30.255.112\n",
            "Connecting to github.com (github.com)|192.30.255.112|:443... connected.\n",
            "HTTP request sent, awaiting response... 302 Found\n",
            "Location: https://raw.githubusercontent.com/caserec/Datasets-for-Recommneder-Systems/master/Processed%20Datasets/AmazonMusic.tar.xz [following]\n",
            "--2019-09-04 20:48:25--  https://raw.githubusercontent.com/caserec/Datasets-for-Recommneder-Systems/master/Processed%20Datasets/AmazonMusic.tar.xz\n",
            "Resolving raw.githubusercontent.com (raw.githubusercontent.com)... 151.101.0.133, 151.101.64.133, 151.101.128.133, ...\n",
            "Connecting to raw.githubusercontent.com (raw.githubusercontent.com)|151.101.0.133|:443... connected.\n",
            "HTTP request sent, awaiting response... 200 OK\n",
            "Length: 22112728 (21M) [application/octet-stream]\n",
            "Saving to: ‘AmazonMusic.tar.xz.2’\n",
            "\n",
            "\rAmazonMusic.tar.xz.   0%[                    ]       0  --.-KB/s               \rAmazonMusic.tar.xz. 100%[===================>]  21.09M   137MB/s    in 0.2s    \n",
            "\n",
            "2019-09-04 20:48:25 (137 MB/s) - ‘AmazonMusic.tar.xz.2’ saved [22112728/22112728]\n",
            "\n",
            "Requirement already satisfied: caserecommender in /usr/local/lib/python3.6/dist-packages (1.0.918.post0)\n",
            "Requirement already satisfied: scikit-learn in /usr/local/lib/python3.6/dist-packages (from caserecommender) (0.21.3)\n",
            "Requirement already satisfied: numpy in /usr/local/lib/python3.6/dist-packages (from caserecommender) (1.16.4)\n",
            "Requirement already satisfied: scipy in /usr/local/lib/python3.6/dist-packages (from caserecommender) (1.3.1)\n",
            "Requirement already satisfied: pandas in /usr/local/lib/python3.6/dist-packages (from caserecommender) (0.24.2)\n",
            "Requirement already satisfied: joblib>=0.11 in /usr/local/lib/python3.6/dist-packages (from scikit-learn->caserecommender) (0.13.2)\n",
            "Requirement already satisfied: python-dateutil>=2.5.0 in /usr/local/lib/python3.6/dist-packages (from pandas->caserecommender) (2.5.3)\n",
            "Requirement already satisfied: pytz>=2011k in /usr/local/lib/python3.6/dist-packages (from pandas->caserecommender) (2018.9)\n",
            "Requirement already satisfied: six>=1.5 in /usr/local/lib/python3.6/dist-packages (from python-dateutil>=2.5.0->pandas->caserecommender) (1.12.0)\n"
          ],
          "name": "stdout"
        }
      ]
    },
    {
      "cell_type": "code",
      "metadata": {
        "id": "MngqcgCxBLeX",
        "colab_type": "code",
        "colab": {
          "base_uri": "https://localhost:8080/",
          "height": 51
        },
        "outputId": "7490f411-aaf4-4582-aeb2-8df3677adf20"
      },
      "source": [
        "ls"
      ],
      "execution_count": 31,
      "outputs": [
        {
          "output_type": "stream",
          "text": [
            "\u001b[0m\u001b[01;34mAmazonMusic\u001b[0m/        AmazonMusic.tar.xz.1  map_tilte.npy  test.dat\n",
            "AmazonMusic.tar.xz  AmazonMusic.tar.xz.2  \u001b[01;34msample_data\u001b[0m/   train.dat\n"
          ],
          "name": "stdout"
        }
      ]
    },
    {
      "cell_type": "code",
      "metadata": {
        "id": "L0e1hREHA1GH",
        "colab_type": "code",
        "colab": {}
      },
      "source": [
        "import pandas as pd\n",
        "import numpy as np"
      ],
      "execution_count": 0,
      "outputs": []
    },
    {
      "cell_type": "code",
      "metadata": {
        "id": "OAQRi8d5A1GO",
        "colab_type": "code",
        "colab": {
          "base_uri": "https://localhost:8080/",
          "height": 204
        },
        "outputId": "66cd718f-710e-4bf7-aade-4fbf9bac24ae"
      },
      "source": [
        "dataset = pd.read_json('./AmazonMusic/Digital_Music_5.json', lines=True)\n",
        "dataset.head()"
      ],
      "execution_count": 33,
      "outputs": [
        {
          "output_type": "execute_result",
          "data": {
            "text/html": [
              "<div>\n",
              "<style scoped>\n",
              "    .dataframe tbody tr th:only-of-type {\n",
              "        vertical-align: middle;\n",
              "    }\n",
              "\n",
              "    .dataframe tbody tr th {\n",
              "        vertical-align: top;\n",
              "    }\n",
              "\n",
              "    .dataframe thead th {\n",
              "        text-align: right;\n",
              "    }\n",
              "</style>\n",
              "<table border=\"1\" class=\"dataframe\">\n",
              "  <thead>\n",
              "    <tr style=\"text-align: right;\">\n",
              "      <th></th>\n",
              "      <th>asin</th>\n",
              "      <th>helpful</th>\n",
              "      <th>overall</th>\n",
              "      <th>reviewText</th>\n",
              "      <th>reviewTime</th>\n",
              "      <th>reviewerID</th>\n",
              "      <th>reviewerName</th>\n",
              "      <th>summary</th>\n",
              "      <th>unixReviewTime</th>\n",
              "    </tr>\n",
              "  </thead>\n",
              "  <tbody>\n",
              "    <tr>\n",
              "      <th>0</th>\n",
              "      <td>5555991584</td>\n",
              "      <td>[3, 3]</td>\n",
              "      <td>5</td>\n",
              "      <td>It's hard to believe \"Memory of Trees\" came ou...</td>\n",
              "      <td>09 12, 2006</td>\n",
              "      <td>A3EBHHCZO6V2A4</td>\n",
              "      <td>Amaranth \"music fan\"</td>\n",
              "      <td>Enya's last great album</td>\n",
              "      <td>1158019200</td>\n",
              "    </tr>\n",
              "    <tr>\n",
              "      <th>1</th>\n",
              "      <td>5555991584</td>\n",
              "      <td>[0, 0]</td>\n",
              "      <td>5</td>\n",
              "      <td>A clasically-styled and introverted album, Mem...</td>\n",
              "      <td>06 3, 2001</td>\n",
              "      <td>AZPWAXJG9OJXV</td>\n",
              "      <td>bethtexas</td>\n",
              "      <td>Enya at her most elegant</td>\n",
              "      <td>991526400</td>\n",
              "    </tr>\n",
              "    <tr>\n",
              "      <th>2</th>\n",
              "      <td>5555991584</td>\n",
              "      <td>[2, 2]</td>\n",
              "      <td>5</td>\n",
              "      <td>I never thought Enya would reach the sublime h...</td>\n",
              "      <td>07 14, 2003</td>\n",
              "      <td>A38IRL0X2T4DPF</td>\n",
              "      <td>bob turnley</td>\n",
              "      <td>The best so far</td>\n",
              "      <td>1058140800</td>\n",
              "    </tr>\n",
              "    <tr>\n",
              "      <th>3</th>\n",
              "      <td>5555991584</td>\n",
              "      <td>[1, 1]</td>\n",
              "      <td>5</td>\n",
              "      <td>This is the third review of an irish album I w...</td>\n",
              "      <td>05 3, 2000</td>\n",
              "      <td>A22IK3I6U76GX0</td>\n",
              "      <td>Calle</td>\n",
              "      <td>Ireland produces good music.</td>\n",
              "      <td>957312000</td>\n",
              "    </tr>\n",
              "    <tr>\n",
              "      <th>4</th>\n",
              "      <td>5555991584</td>\n",
              "      <td>[1, 1]</td>\n",
              "      <td>4</td>\n",
              "      <td>Enya, despite being a successful recording art...</td>\n",
              "      <td>01 17, 2008</td>\n",
              "      <td>A1AISPOIIHTHXX</td>\n",
              "      <td>Cloud \"...\"</td>\n",
              "      <td>4.5; music to dream to</td>\n",
              "      <td>1200528000</td>\n",
              "    </tr>\n",
              "  </tbody>\n",
              "</table>\n",
              "</div>"
            ],
            "text/plain": [
              "         asin helpful  ...                       summary unixReviewTime\n",
              "0  5555991584  [3, 3]  ...       Enya's last great album     1158019200\n",
              "1  5555991584  [0, 0]  ...      Enya at her most elegant      991526400\n",
              "2  5555991584  [2, 2]  ...               The best so far     1058140800\n",
              "3  5555991584  [1, 1]  ...  Ireland produces good music.      957312000\n",
              "4  5555991584  [1, 1]  ...        4.5; music to dream to     1200528000\n",
              "\n",
              "[5 rows x 9 columns]"
            ]
          },
          "metadata": {
            "tags": []
          },
          "execution_count": 33
        }
      ]
    },
    {
      "cell_type": "code",
      "metadata": {
        "id": "BOLVuBBqA1GV",
        "colab_type": "code",
        "colab": {
          "base_uri": "https://localhost:8080/",
          "height": 265
        },
        "outputId": "2b82c7d7-bf47-41ae-81c1-5a3bc6a17ed4"
      },
      "source": [
        "dataset.overall.value_counts().plot(kind='bar', color=['g', 'c', 'y', 'b', 'r']);"
      ],
      "execution_count": 34,
      "outputs": [
        {
          "output_type": "display_data",
          "data": {
            "image/png": "[encoded data removed]",
            "text/plain": [
              "<Figure size 432x288 with 1 Axes>"
            ]
          },
          "metadata": {
            "tags": []
          }
        }
      ]
    },
    {
      "cell_type": "code",
      "metadata": {
        "id": "Ir7FstouA1Gc",
        "colab_type": "code",
        "colab": {
          "base_uri": "https://localhost:8080/",
          "height": 406
        },
        "outputId": "a7e4a83e-2c67-4aaf-9179-5b019e4ac300"
      },
      "source": [
        "dataset_metadata = pd.read_csv('AmazonMusic/amazon_music_metadata.csv')\n",
        "dataset_metadata.head()"
      ],
      "execution_count": 35,
      "outputs": [
        {
          "output_type": "execute_result",
          "data": {
            "text/html": [
              "<div>\n",
              "<style scoped>\n",
              "    .dataframe tbody tr th:only-of-type {\n",
              "        vertical-align: middle;\n",
              "    }\n",
              "\n",
              "    .dataframe tbody tr th {\n",
              "        vertical-align: top;\n",
              "    }\n",
              "\n",
              "    .dataframe thead th {\n",
              "        text-align: right;\n",
              "    }\n",
              "</style>\n",
              "<table border=\"1\" class=\"dataframe\">\n",
              "  <thead>\n",
              "    <tr style=\"text-align: right;\">\n",
              "      <th></th>\n",
              "      <th>asin</th>\n",
              "      <th>title</th>\n",
              "      <th>Accessories</th>\n",
              "      <th>Acid Jazz</th>\n",
              "      <th>Acoustic Blues</th>\n",
              "      <th>Adult Alternative</th>\n",
              "      <th>Adult Contemporary</th>\n",
              "      <th>Africa</th>\n",
              "      <th>Afro Brazilian</th>\n",
              "      <th>Afro-Cuban</th>\n",
              "      <th>Air Tool Accessories</th>\n",
              "      <th>Album-Oriented Rock (AOR)</th>\n",
              "      <th>Alt Industrial</th>\n",
              "      <th>Alt-Country &amp; Americana</th>\n",
              "      <th>Alternative Medicine</th>\n",
              "      <th>Alternative Metal</th>\n",
              "      <th>Alternative Rock</th>\n",
              "      <th>Ambient</th>\n",
              "      <th>Ambient Pop</th>\n",
              "      <th>American Alternative</th>\n",
              "      <th>American Punk</th>\n",
              "      <th>Americana</th>\n",
              "      <th>Amplifiers &amp; Effects</th>\n",
              "      <th>Andes</th>\n",
              "      <th>Arena Rock</th>\n",
              "      <th>Argentina</th>\n",
              "      <th>Arts &amp; Crafts Supplies</th>\n",
              "      <th>Arts, Crafts &amp; Sewing</th>\n",
              "      <th>Australia &amp; New Zealand</th>\n",
              "      <th>Austria</th>\n",
              "      <th>Avant Garde &amp; Free Jazz</th>\n",
              "      <th>Baby Products</th>\n",
              "      <th>Bachata</th>\n",
              "      <th>Bags &amp; Cases</th>\n",
              "      <th>Bakersfield Sound</th>\n",
              "      <th>Ballets</th>\n",
              "      <th>Ballets &amp; Dances</th>\n",
              "      <th>Baroque Pop</th>\n",
              "      <th>Bass</th>\n",
              "      <th>Bass Guitars</th>\n",
              "      <th>...</th>\n",
              "      <th>Third Wave Ska</th>\n",
              "      <th>Thrash &amp; Speed Metal</th>\n",
              "      <th>Tin Pan Alley</th>\n",
              "      <th>Tools &amp; Accessories</th>\n",
              "      <th>Tools &amp; Home Improvement</th>\n",
              "      <th>Traditional</th>\n",
              "      <th>Traditional Blues</th>\n",
              "      <th>Traditional British &amp; Celtic Folk</th>\n",
              "      <th>Traditional Folk</th>\n",
              "      <th>Traditional Jazz &amp; Ragtime</th>\n",
              "      <th>Traditional Pop</th>\n",
              "      <th>Traditional Vocal Pop</th>\n",
              "      <th>Trance</th>\n",
              "      <th>Tributes</th>\n",
              "      <th>Trim &amp; Embellishments</th>\n",
              "      <th>Trip-Hop</th>\n",
              "      <th>Turkey</th>\n",
              "      <th>Turntablists</th>\n",
              "      <th>Twee Pop</th>\n",
              "      <th>Urban &amp; Contemporary</th>\n",
              "      <th>Urban Folk</th>\n",
              "      <th>Uruguay</th>\n",
              "      <th>Venezuela</th>\n",
              "      <th>Vitamins &amp; Dietary Supplements</th>\n",
              "      <th>Vocal Blues</th>\n",
              "      <th>Vocal Jazz</th>\n",
              "      <th>Vocal Non-Opera</th>\n",
              "      <th>Vocal Pop</th>\n",
              "      <th>Voices</th>\n",
              "      <th>Walkers</th>\n",
              "      <th>Wall Stickers</th>\n",
              "      <th>Wall Switches</th>\n",
              "      <th>Washers</th>\n",
              "      <th>Wave Washers &amp; Wave Springs</th>\n",
              "      <th>Wedding Music</th>\n",
              "      <th>West Coast</th>\n",
              "      <th>West Coast Blues</th>\n",
              "      <th>Western Swing</th>\n",
              "      <th>World Dance</th>\n",
              "      <th>World Music</th>\n",
              "    </tr>\n",
              "  </thead>\n",
              "  <tbody>\n",
              "    <tr>\n",
              "      <th>0</th>\n",
              "      <td>5555991584</td>\n",
              "      <td>Memory of Trees</td>\n",
              "      <td>0.0</td>\n",
              "      <td>0.0</td>\n",
              "      <td>0.0</td>\n",
              "      <td>0.0</td>\n",
              "      <td>0.0</td>\n",
              "      <td>0.0</td>\n",
              "      <td>0.0</td>\n",
              "      <td>0.0</td>\n",
              "      <td>0.0</td>\n",
              "      <td>0.0</td>\n",
              "      <td>0.0</td>\n",
              "      <td>0.0</td>\n",
              "      <td>0.0</td>\n",
              "      <td>0.0</td>\n",
              "      <td>0.0</td>\n",
              "      <td>0.0</td>\n",
              "      <td>0.0</td>\n",
              "      <td>0.0</td>\n",
              "      <td>0.0</td>\n",
              "      <td>0.0</td>\n",
              "      <td>0.0</td>\n",
              "      <td>0.0</td>\n",
              "      <td>0.0</td>\n",
              "      <td>0.0</td>\n",
              "      <td>0.0</td>\n",
              "      <td>0.0</td>\n",
              "      <td>0.0</td>\n",
              "      <td>0.0</td>\n",
              "      <td>0.0</td>\n",
              "      <td>0.0</td>\n",
              "      <td>0.0</td>\n",
              "      <td>0.0</td>\n",
              "      <td>0.0</td>\n",
              "      <td>0.0</td>\n",
              "      <td>0.0</td>\n",
              "      <td>0.0</td>\n",
              "      <td>0.0</td>\n",
              "      <td>0.0</td>\n",
              "      <td>...</td>\n",
              "      <td>0.0</td>\n",
              "      <td>0.0</td>\n",
              "      <td>0.0</td>\n",
              "      <td>0.0</td>\n",
              "      <td>0.0</td>\n",
              "      <td>0.0</td>\n",
              "      <td>0.0</td>\n",
              "      <td>0.0</td>\n",
              "      <td>0.0</td>\n",
              "      <td>0.0</td>\n",
              "      <td>0.0</td>\n",
              "      <td>0.0</td>\n",
              "      <td>0.0</td>\n",
              "      <td>0.0</td>\n",
              "      <td>0.0</td>\n",
              "      <td>0.0</td>\n",
              "      <td>0.0</td>\n",
              "      <td>0.0</td>\n",
              "      <td>0.0</td>\n",
              "      <td>0.0</td>\n",
              "      <td>0.0</td>\n",
              "      <td>0.0</td>\n",
              "      <td>0.0</td>\n",
              "      <td>0.0</td>\n",
              "      <td>0.0</td>\n",
              "      <td>0.0</td>\n",
              "      <td>0.0</td>\n",
              "      <td>0.0</td>\n",
              "      <td>0.0</td>\n",
              "      <td>0.0</td>\n",
              "      <td>0.0</td>\n",
              "      <td>0.0</td>\n",
              "      <td>0.0</td>\n",
              "      <td>0.0</td>\n",
              "      <td>0.0</td>\n",
              "      <td>0.0</td>\n",
              "      <td>0.0</td>\n",
              "      <td>0.0</td>\n",
              "      <td>0.0</td>\n",
              "      <td>0.0</td>\n",
              "    </tr>\n",
              "    <tr>\n",
              "      <th>1</th>\n",
              "      <td>6308051551</td>\n",
              "      <td>Dont Drink His Blood</td>\n",
              "      <td>0.0</td>\n",
              "      <td>0.0</td>\n",
              "      <td>0.0</td>\n",
              "      <td>0.0</td>\n",
              "      <td>0.0</td>\n",
              "      <td>0.0</td>\n",
              "      <td>0.0</td>\n",
              "      <td>0.0</td>\n",
              "      <td>0.0</td>\n",
              "      <td>0.0</td>\n",
              "      <td>0.0</td>\n",
              "      <td>0.0</td>\n",
              "      <td>0.0</td>\n",
              "      <td>0.0</td>\n",
              "      <td>1.0</td>\n",
              "      <td>0.0</td>\n",
              "      <td>0.0</td>\n",
              "      <td>0.0</td>\n",
              "      <td>0.0</td>\n",
              "      <td>0.0</td>\n",
              "      <td>0.0</td>\n",
              "      <td>0.0</td>\n",
              "      <td>0.0</td>\n",
              "      <td>0.0</td>\n",
              "      <td>0.0</td>\n",
              "      <td>0.0</td>\n",
              "      <td>0.0</td>\n",
              "      <td>0.0</td>\n",
              "      <td>0.0</td>\n",
              "      <td>0.0</td>\n",
              "      <td>0.0</td>\n",
              "      <td>0.0</td>\n",
              "      <td>0.0</td>\n",
              "      <td>0.0</td>\n",
              "      <td>0.0</td>\n",
              "      <td>0.0</td>\n",
              "      <td>0.0</td>\n",
              "      <td>0.0</td>\n",
              "      <td>...</td>\n",
              "      <td>0.0</td>\n",
              "      <td>0.0</td>\n",
              "      <td>0.0</td>\n",
              "      <td>0.0</td>\n",
              "      <td>0.0</td>\n",
              "      <td>0.0</td>\n",
              "      <td>0.0</td>\n",
              "      <td>0.0</td>\n",
              "      <td>0.0</td>\n",
              "      <td>0.0</td>\n",
              "      <td>0.0</td>\n",
              "      <td>0.0</td>\n",
              "      <td>0.0</td>\n",
              "      <td>0.0</td>\n",
              "      <td>0.0</td>\n",
              "      <td>0.0</td>\n",
              "      <td>0.0</td>\n",
              "      <td>0.0</td>\n",
              "      <td>0.0</td>\n",
              "      <td>0.0</td>\n",
              "      <td>0.0</td>\n",
              "      <td>0.0</td>\n",
              "      <td>0.0</td>\n",
              "      <td>0.0</td>\n",
              "      <td>0.0</td>\n",
              "      <td>0.0</td>\n",
              "      <td>0.0</td>\n",
              "      <td>0.0</td>\n",
              "      <td>0.0</td>\n",
              "      <td>0.0</td>\n",
              "      <td>0.0</td>\n",
              "      <td>0.0</td>\n",
              "      <td>0.0</td>\n",
              "      <td>0.0</td>\n",
              "      <td>0.0</td>\n",
              "      <td>0.0</td>\n",
              "      <td>0.0</td>\n",
              "      <td>0.0</td>\n",
              "      <td>0.0</td>\n",
              "      <td>0.0</td>\n",
              "    </tr>\n",
              "    <tr>\n",
              "      <th>2</th>\n",
              "      <td>7901622466</td>\n",
              "      <td>On Fire</td>\n",
              "      <td>0.0</td>\n",
              "      <td>0.0</td>\n",
              "      <td>0.0</td>\n",
              "      <td>0.0</td>\n",
              "      <td>0.0</td>\n",
              "      <td>0.0</td>\n",
              "      <td>0.0</td>\n",
              "      <td>0.0</td>\n",
              "      <td>0.0</td>\n",
              "      <td>0.0</td>\n",
              "      <td>0.0</td>\n",
              "      <td>0.0</td>\n",
              "      <td>0.0</td>\n",
              "      <td>0.0</td>\n",
              "      <td>0.0</td>\n",
              "      <td>0.0</td>\n",
              "      <td>0.0</td>\n",
              "      <td>0.0</td>\n",
              "      <td>0.0</td>\n",
              "      <td>0.0</td>\n",
              "      <td>0.0</td>\n",
              "      <td>0.0</td>\n",
              "      <td>0.0</td>\n",
              "      <td>0.0</td>\n",
              "      <td>0.0</td>\n",
              "      <td>0.0</td>\n",
              "      <td>0.0</td>\n",
              "      <td>0.0</td>\n",
              "      <td>0.0</td>\n",
              "      <td>0.0</td>\n",
              "      <td>0.0</td>\n",
              "      <td>0.0</td>\n",
              "      <td>0.0</td>\n",
              "      <td>0.0</td>\n",
              "      <td>0.0</td>\n",
              "      <td>0.0</td>\n",
              "      <td>0.0</td>\n",
              "      <td>0.0</td>\n",
              "      <td>...</td>\n",
              "      <td>0.0</td>\n",
              "      <td>0.0</td>\n",
              "      <td>0.0</td>\n",
              "      <td>0.0</td>\n",
              "      <td>0.0</td>\n",
              "      <td>0.0</td>\n",
              "      <td>0.0</td>\n",
              "      <td>0.0</td>\n",
              "      <td>0.0</td>\n",
              "      <td>0.0</td>\n",
              "      <td>0.0</td>\n",
              "      <td>0.0</td>\n",
              "      <td>0.0</td>\n",
              "      <td>0.0</td>\n",
              "      <td>0.0</td>\n",
              "      <td>0.0</td>\n",
              "      <td>0.0</td>\n",
              "      <td>0.0</td>\n",
              "      <td>0.0</td>\n",
              "      <td>0.0</td>\n",
              "      <td>0.0</td>\n",
              "      <td>0.0</td>\n",
              "      <td>0.0</td>\n",
              "      <td>0.0</td>\n",
              "      <td>0.0</td>\n",
              "      <td>0.0</td>\n",
              "      <td>0.0</td>\n",
              "      <td>0.0</td>\n",
              "      <td>0.0</td>\n",
              "      <td>0.0</td>\n",
              "      <td>0.0</td>\n",
              "      <td>0.0</td>\n",
              "      <td>0.0</td>\n",
              "      <td>0.0</td>\n",
              "      <td>0.0</td>\n",
              "      <td>0.0</td>\n",
              "      <td>0.0</td>\n",
              "      <td>0.0</td>\n",
              "      <td>0.0</td>\n",
              "      <td>0.0</td>\n",
              "    </tr>\n",
              "    <tr>\n",
              "      <th>3</th>\n",
              "      <td>B0000000ZW</td>\n",
              "      <td>Changing Faces</td>\n",
              "      <td>0.0</td>\n",
              "      <td>0.0</td>\n",
              "      <td>0.0</td>\n",
              "      <td>0.0</td>\n",
              "      <td>0.0</td>\n",
              "      <td>0.0</td>\n",
              "      <td>0.0</td>\n",
              "      <td>0.0</td>\n",
              "      <td>0.0</td>\n",
              "      <td>0.0</td>\n",
              "      <td>0.0</td>\n",
              "      <td>0.0</td>\n",
              "      <td>0.0</td>\n",
              "      <td>0.0</td>\n",
              "      <td>0.0</td>\n",
              "      <td>0.0</td>\n",
              "      <td>0.0</td>\n",
              "      <td>0.0</td>\n",
              "      <td>0.0</td>\n",
              "      <td>0.0</td>\n",
              "      <td>0.0</td>\n",
              "      <td>0.0</td>\n",
              "      <td>0.0</td>\n",
              "      <td>0.0</td>\n",
              "      <td>0.0</td>\n",
              "      <td>0.0</td>\n",
              "      <td>0.0</td>\n",
              "      <td>0.0</td>\n",
              "      <td>0.0</td>\n",
              "      <td>0.0</td>\n",
              "      <td>0.0</td>\n",
              "      <td>0.0</td>\n",
              "      <td>0.0</td>\n",
              "      <td>0.0</td>\n",
              "      <td>0.0</td>\n",
              "      <td>0.0</td>\n",
              "      <td>0.0</td>\n",
              "      <td>0.0</td>\n",
              "      <td>...</td>\n",
              "      <td>0.0</td>\n",
              "      <td>0.0</td>\n",
              "      <td>0.0</td>\n",
              "      <td>0.0</td>\n",
              "      <td>0.0</td>\n",
              "      <td>0.0</td>\n",
              "      <td>0.0</td>\n",
              "      <td>0.0</td>\n",
              "      <td>0.0</td>\n",
              "      <td>0.0</td>\n",
              "      <td>0.0</td>\n",
              "      <td>0.0</td>\n",
              "      <td>0.0</td>\n",
              "      <td>0.0</td>\n",
              "      <td>0.0</td>\n",
              "      <td>0.0</td>\n",
              "      <td>0.0</td>\n",
              "      <td>0.0</td>\n",
              "      <td>0.0</td>\n",
              "      <td>0.0</td>\n",
              "      <td>0.0</td>\n",
              "      <td>0.0</td>\n",
              "      <td>0.0</td>\n",
              "      <td>0.0</td>\n",
              "      <td>0.0</td>\n",
              "      <td>0.0</td>\n",
              "      <td>0.0</td>\n",
              "      <td>0.0</td>\n",
              "      <td>0.0</td>\n",
              "      <td>0.0</td>\n",
              "      <td>0.0</td>\n",
              "      <td>0.0</td>\n",
              "      <td>0.0</td>\n",
              "      <td>0.0</td>\n",
              "      <td>0.0</td>\n",
              "      <td>0.0</td>\n",
              "      <td>0.0</td>\n",
              "      <td>0.0</td>\n",
              "      <td>0.0</td>\n",
              "      <td>0.0</td>\n",
              "    </tr>\n",
              "    <tr>\n",
              "      <th>4</th>\n",
              "      <td>B00000016W</td>\n",
              "      <td>Pet Sounds</td>\n",
              "      <td>0.0</td>\n",
              "      <td>0.0</td>\n",
              "      <td>0.0</td>\n",
              "      <td>0.0</td>\n",
              "      <td>0.0</td>\n",
              "      <td>0.0</td>\n",
              "      <td>0.0</td>\n",
              "      <td>0.0</td>\n",
              "      <td>0.0</td>\n",
              "      <td>0.0</td>\n",
              "      <td>0.0</td>\n",
              "      <td>0.0</td>\n",
              "      <td>0.0</td>\n",
              "      <td>0.0</td>\n",
              "      <td>1.0</td>\n",
              "      <td>0.0</td>\n",
              "      <td>0.0</td>\n",
              "      <td>0.0</td>\n",
              "      <td>0.0</td>\n",
              "      <td>0.0</td>\n",
              "      <td>0.0</td>\n",
              "      <td>0.0</td>\n",
              "      <td>0.0</td>\n",
              "      <td>0.0</td>\n",
              "      <td>0.0</td>\n",
              "      <td>0.0</td>\n",
              "      <td>0.0</td>\n",
              "      <td>0.0</td>\n",
              "      <td>0.0</td>\n",
              "      <td>0.0</td>\n",
              "      <td>0.0</td>\n",
              "      <td>0.0</td>\n",
              "      <td>0.0</td>\n",
              "      <td>0.0</td>\n",
              "      <td>0.0</td>\n",
              "      <td>1.0</td>\n",
              "      <td>0.0</td>\n",
              "      <td>0.0</td>\n",
              "      <td>...</td>\n",
              "      <td>0.0</td>\n",
              "      <td>0.0</td>\n",
              "      <td>0.0</td>\n",
              "      <td>0.0</td>\n",
              "      <td>0.0</td>\n",
              "      <td>0.0</td>\n",
              "      <td>0.0</td>\n",
              "      <td>0.0</td>\n",
              "      <td>0.0</td>\n",
              "      <td>0.0</td>\n",
              "      <td>0.0</td>\n",
              "      <td>0.0</td>\n",
              "      <td>0.0</td>\n",
              "      <td>0.0</td>\n",
              "      <td>0.0</td>\n",
              "      <td>0.0</td>\n",
              "      <td>0.0</td>\n",
              "      <td>0.0</td>\n",
              "      <td>0.0</td>\n",
              "      <td>0.0</td>\n",
              "      <td>0.0</td>\n",
              "      <td>0.0</td>\n",
              "      <td>0.0</td>\n",
              "      <td>0.0</td>\n",
              "      <td>0.0</td>\n",
              "      <td>0.0</td>\n",
              "      <td>0.0</td>\n",
              "      <td>0.0</td>\n",
              "      <td>0.0</td>\n",
              "      <td>0.0</td>\n",
              "      <td>0.0</td>\n",
              "      <td>0.0</td>\n",
              "      <td>0.0</td>\n",
              "      <td>0.0</td>\n",
              "      <td>0.0</td>\n",
              "      <td>0.0</td>\n",
              "      <td>0.0</td>\n",
              "      <td>0.0</td>\n",
              "      <td>0.0</td>\n",
              "      <td>0.0</td>\n",
              "    </tr>\n",
              "  </tbody>\n",
              "</table>\n",
              "<p>5 rows × 463 columns</p>\n",
              "</div>"
            ],
            "text/plain": [
              "         asin                 title  ...  World Dance  World Music\n",
              "0  5555991584       Memory of Trees  ...          0.0          0.0\n",
              "1  6308051551  Dont Drink His Blood  ...          0.0          0.0\n",
              "2  7901622466               On Fire  ...          0.0          0.0\n",
              "3  B0000000ZW        Changing Faces  ...          0.0          0.0\n",
              "4  B00000016W            Pet Sounds  ...          0.0          0.0\n",
              "\n",
              "[5 rows x 463 columns]"
            ]
          },
          "metadata": {
            "tags": []
          },
          "execution_count": 35
        }
      ]
    },
    {
      "cell_type": "code",
      "metadata": {
        "id": "5_SI0EI7A1Gh",
        "colab_type": "code",
        "colab": {
          "base_uri": "https://localhost:8080/",
          "height": 204
        },
        "outputId": "03785f7b-5fc7-4c57-c65b-b99a18a1daac"
      },
      "source": [
        "df_recsys = dataset[['reviewerID', 'asin', 'overall']] \n",
        "df_recsys.head()"
      ],
      "execution_count": 36,
      "outputs": [
        {
          "output_type": "execute_result",
          "data": {
            "text/html": [
              "<div>\n",
              "<style scoped>\n",
              "    .dataframe tbody tr th:only-of-type {\n",
              "        vertical-align: middle;\n",
              "    }\n",
              "\n",
              "    .dataframe tbody tr th {\n",
              "        vertical-align: top;\n",
              "    }\n",
              "\n",
              "    .dataframe thead th {\n",
              "        text-align: right;\n",
              "    }\n",
              "</style>\n",
              "<table border=\"1\" class=\"dataframe\">\n",
              "  <thead>\n",
              "    <tr style=\"text-align: right;\">\n",
              "      <th></th>\n",
              "      <th>reviewerID</th>\n",
              "      <th>asin</th>\n",
              "      <th>overall</th>\n",
              "    </tr>\n",
              "  </thead>\n",
              "  <tbody>\n",
              "    <tr>\n",
              "      <th>0</th>\n",
              "      <td>A3EBHHCZO6V2A4</td>\n",
              "      <td>5555991584</td>\n",
              "      <td>5</td>\n",
              "    </tr>\n",
              "    <tr>\n",
              "      <th>1</th>\n",
              "      <td>AZPWAXJG9OJXV</td>\n",
              "      <td>5555991584</td>\n",
              "      <td>5</td>\n",
              "    </tr>\n",
              "    <tr>\n",
              "      <th>2</th>\n",
              "      <td>A38IRL0X2T4DPF</td>\n",
              "      <td>5555991584</td>\n",
              "      <td>5</td>\n",
              "    </tr>\n",
              "    <tr>\n",
              "      <th>3</th>\n",
              "      <td>A22IK3I6U76GX0</td>\n",
              "      <td>5555991584</td>\n",
              "      <td>5</td>\n",
              "    </tr>\n",
              "    <tr>\n",
              "      <th>4</th>\n",
              "      <td>A1AISPOIIHTHXX</td>\n",
              "      <td>5555991584</td>\n",
              "      <td>4</td>\n",
              "    </tr>\n",
              "  </tbody>\n",
              "</table>\n",
              "</div>"
            ],
            "text/plain": [
              "       reviewerID        asin  overall\n",
              "0  A3EBHHCZO6V2A4  5555991584        5\n",
              "1   AZPWAXJG9OJXV  5555991584        5\n",
              "2  A38IRL0X2T4DPF  5555991584        5\n",
              "3  A22IK3I6U76GX0  5555991584        5\n",
              "4  A1AISPOIIHTHXX  5555991584        4"
            ]
          },
          "metadata": {
            "tags": []
          },
          "execution_count": 36
        }
      ]
    },
    {
      "cell_type": "code",
      "metadata": {
        "id": "Ig3bImzsA1Gm",
        "colab_type": "code",
        "colab": {}
      },
      "source": [
        "df_recsys = df_recsys.merge(dataset_metadata[['asin', 'title']])"
      ],
      "execution_count": 0,
      "outputs": []
    },
    {
      "cell_type": "code",
      "metadata": {
        "id": "EHTjinG5A1Gq",
        "colab_type": "code",
        "colab": {
          "base_uri": "https://localhost:8080/",
          "height": 51
        },
        "outputId": "707561f9-176d-4cd1-aec2-9f3eed7825bd"
      },
      "source": [
        "# unique users\n",
        "df_recsys.reviewerID.unique()"
      ],
      "execution_count": 38,
      "outputs": [
        {
          "output_type": "execute_result",
          "data": {
            "text/plain": [
              "array(['A3EBHHCZO6V2A4', 'AZPWAXJG9OJXV', 'A38IRL0X2T4DPF', ...,\n",
              "       'A3IZB368BG43JS', 'A1TPW86OHXTXFC', 'AVSVOKDI0AGR7'], dtype=object)"
            ]
          },
          "metadata": {
            "tags": []
          },
          "execution_count": 38
        }
      ]
    },
    {
      "cell_type": "code",
      "metadata": {
        "id": "Nre-Q5NIA1Gx",
        "colab_type": "code",
        "colab": {
          "base_uri": "https://localhost:8080/",
          "height": 51
        },
        "outputId": "536ad431-244c-4935-c76a-9e9e4be17878"
      },
      "source": [
        "# unique items\n",
        "df_recsys.asin.unique()"
      ],
      "execution_count": 39,
      "outputs": [
        {
          "output_type": "execute_result",
          "data": {
            "text/plain": [
              "array(['5555991584', 'B0000000ZW', 'B00000016T', ..., 'B000FBGBQ6',\n",
              "       'B000FDEUI0', 'B000FDFRX2'], dtype=object)"
            ]
          },
          "metadata": {
            "tags": []
          },
          "execution_count": 39
        }
      ]
    },
    {
      "cell_type": "code",
      "metadata": {
        "id": "1PgnxlkhA1G1",
        "colab_type": "code",
        "colab": {
          "base_uri": "https://localhost:8080/",
          "height": 204
        },
        "outputId": "c98e012e-0e8d-42e3-b00d-330c70d1c598"
      },
      "source": [
        "df_recsys.tail()"
      ],
      "execution_count": 40,
      "outputs": [
        {
          "output_type": "execute_result",
          "data": {
            "text/html": [
              "<div>\n",
              "<style scoped>\n",
              "    .dataframe tbody tr th:only-of-type {\n",
              "        vertical-align: middle;\n",
              "    }\n",
              "\n",
              "    .dataframe tbody tr th {\n",
              "        vertical-align: top;\n",
              "    }\n",
              "\n",
              "    .dataframe thead th {\n",
              "        text-align: right;\n",
              "    }\n",
              "</style>\n",
              "<table border=\"1\" class=\"dataframe\">\n",
              "  <thead>\n",
              "    <tr style=\"text-align: right;\">\n",
              "      <th></th>\n",
              "      <th>reviewerID</th>\n",
              "      <th>asin</th>\n",
              "      <th>overall</th>\n",
              "      <th>title</th>\n",
              "    </tr>\n",
              "  </thead>\n",
              "  <tbody>\n",
              "    <tr>\n",
              "      <th>51791</th>\n",
              "      <td>A2LZJ5J9H862SN</td>\n",
              "      <td>B000FDFRX2</td>\n",
              "      <td>5</td>\n",
              "      <td>The Best Of Survivor</td>\n",
              "    </tr>\n",
              "    <tr>\n",
              "      <th>51792</th>\n",
              "      <td>A14W8HXP3RM3ZS</td>\n",
              "      <td>B000FDFRX2</td>\n",
              "      <td>3</td>\n",
              "      <td>The Best Of Survivor</td>\n",
              "    </tr>\n",
              "    <tr>\n",
              "      <th>51793</th>\n",
              "      <td>AIMMIYQCNGM24</td>\n",
              "      <td>B000FDFRX2</td>\n",
              "      <td>5</td>\n",
              "      <td>The Best Of Survivor</td>\n",
              "    </tr>\n",
              "    <tr>\n",
              "      <th>51794</th>\n",
              "      <td>AGGC3BHIG6A5K</td>\n",
              "      <td>B000FDFRX2</td>\n",
              "      <td>5</td>\n",
              "      <td>The Best Of Survivor</td>\n",
              "    </tr>\n",
              "    <tr>\n",
              "      <th>51795</th>\n",
              "      <td>A3464G00K8ZYD1</td>\n",
              "      <td>B000FDFRX2</td>\n",
              "      <td>5</td>\n",
              "      <td>The Best Of Survivor</td>\n",
              "    </tr>\n",
              "  </tbody>\n",
              "</table>\n",
              "</div>"
            ],
            "text/plain": [
              "           reviewerID        asin  overall                 title\n",
              "51791  A2LZJ5J9H862SN  B000FDFRX2        5  The Best Of Survivor\n",
              "51792  A14W8HXP3RM3ZS  B000FDFRX2        3  The Best Of Survivor\n",
              "51793   AIMMIYQCNGM24  B000FDFRX2        5  The Best Of Survivor\n",
              "51794   AGGC3BHIG6A5K  B000FDFRX2        5  The Best Of Survivor\n",
              "51795  A3464G00K8ZYD1  B000FDFRX2        5  The Best Of Survivor"
            ]
          },
          "metadata": {
            "tags": []
          },
          "execution_count": 40
        }
      ]
    },
    {
      "cell_type": "markdown",
      "metadata": {
        "id": "ZZUCE_YSA1G6",
        "colab_type": "text"
      },
      "source": [
        "### Map users and itens"
      ]
    },
    {
      "cell_type": "code",
      "metadata": {
        "id": "PJztpr4NA1G8",
        "colab_type": "code",
        "colab": {}
      },
      "source": [
        "map_users = {user: u_id for u_id, user in enumerate(df_recsys.reviewerID.unique())}\n",
        "map_items = {item: i_id for i_id, item in enumerate(df_recsys.asin.unique())}"
      ],
      "execution_count": 0,
      "outputs": []
    },
    {
      "cell_type": "code",
      "metadata": {
        "id": "FrynmP1eA1HA",
        "colab_type": "code",
        "colab": {}
      },
      "source": [
        "df_recsys['asin'] = df_recsys['asin'].map(map_items)\n",
        "df_recsys['reviewerID'] = df_recsys['reviewerID'].map(map_users)"
      ],
      "execution_count": 0,
      "outputs": []
    },
    {
      "cell_type": "code",
      "metadata": {
        "id": "LMtVjn6JA1HF",
        "colab_type": "code",
        "colab": {
          "base_uri": "https://localhost:8080/",
          "height": 204
        },
        "outputId": "a7475e4d-06c9-47b3-bcb6-e46dca74b7cd"
      },
      "source": [
        "df_recsys.head()"
      ],
      "execution_count": 43,
      "outputs": [
        {
          "output_type": "execute_result",
          "data": {
            "text/html": [
              "<div>\n",
              "<style scoped>\n",
              "    .dataframe tbody tr th:only-of-type {\n",
              "        vertical-align: middle;\n",
              "    }\n",
              "\n",
              "    .dataframe tbody tr th {\n",
              "        vertical-align: top;\n",
              "    }\n",
              "\n",
              "    .dataframe thead th {\n",
              "        text-align: right;\n",
              "    }\n",
              "</style>\n",
              "<table border=\"1\" class=\"dataframe\">\n",
              "  <thead>\n",
              "    <tr style=\"text-align: right;\">\n",
              "      <th></th>\n",
              "      <th>reviewerID</th>\n",
              "      <th>asin</th>\n",
              "      <th>overall</th>\n",
              "      <th>title</th>\n",
              "    </tr>\n",
              "  </thead>\n",
              "  <tbody>\n",
              "    <tr>\n",
              "      <th>0</th>\n",
              "      <td>0</td>\n",
              "      <td>0</td>\n",
              "      <td>5</td>\n",
              "      <td>Memory of Trees</td>\n",
              "    </tr>\n",
              "    <tr>\n",
              "      <th>1</th>\n",
              "      <td>1</td>\n",
              "      <td>0</td>\n",
              "      <td>5</td>\n",
              "      <td>Memory of Trees</td>\n",
              "    </tr>\n",
              "    <tr>\n",
              "      <th>2</th>\n",
              "      <td>2</td>\n",
              "      <td>0</td>\n",
              "      <td>5</td>\n",
              "      <td>Memory of Trees</td>\n",
              "    </tr>\n",
              "    <tr>\n",
              "      <th>3</th>\n",
              "      <td>3</td>\n",
              "      <td>0</td>\n",
              "      <td>5</td>\n",
              "      <td>Memory of Trees</td>\n",
              "    </tr>\n",
              "    <tr>\n",
              "      <th>4</th>\n",
              "      <td>4</td>\n",
              "      <td>0</td>\n",
              "      <td>4</td>\n",
              "      <td>Memory of Trees</td>\n",
              "    </tr>\n",
              "  </tbody>\n",
              "</table>\n",
              "</div>"
            ],
            "text/plain": [
              "   reviewerID  asin  overall            title\n",
              "0           0     0        5  Memory of Trees\n",
              "1           1     0        5  Memory of Trees\n",
              "2           2     0        5  Memory of Trees\n",
              "3           3     0        5  Memory of Trees\n",
              "4           4     0        4  Memory of Trees"
            ]
          },
          "metadata": {
            "tags": []
          },
          "execution_count": 43
        }
      ]
    },
    {
      "cell_type": "code",
      "metadata": {
        "id": "5ka4hSNAA1HK",
        "colab_type": "code",
        "colab": {}
      },
      "source": [
        "asin_title = {}\n",
        "\n",
        "for idx, row in df_recsys.iterrows():\n",
        "    asin_title[row['asin']] = row['title']\n",
        "    \n",
        "np.save('map_tilte.npy', asin_title)"
      ],
      "execution_count": 0,
      "outputs": []
    },
    {
      "cell_type": "markdown",
      "metadata": {
        "id": "jsZzl0wbA1HP",
        "colab_type": "text"
      },
      "source": [
        "### Divide dataset\n",
        "\n",
        "https://scikit-learn.org/stable/modules/generated/sklearn.model_selection.train_test_split.html"
      ]
    },
    {
      "cell_type": "code",
      "metadata": {
        "id": "0p-YlyM6A1HQ",
        "colab_type": "code",
        "colab": {}
      },
      "source": [
        "from sklearn.model_selection import train_test_split"
      ],
      "execution_count": 0,
      "outputs": []
    },
    {
      "cell_type": "code",
      "metadata": {
        "id": "h9Co8FfNA1HU",
        "colab_type": "code",
        "colab": {}
      },
      "source": [
        "train, test = train_test_split(df_recsys, test_size=0.33, random_state=42)\n",
        "train.to_csv('train.dat', index=False, header=False, sep='\\t')\n",
        "test.to_csv('test.dat', index=False, header=False, sep='\\t')"
      ],
      "execution_count": 0,
      "outputs": []
    },
    {
      "cell_type": "code",
      "metadata": {
        "id": "qMY469OKBwJv",
        "colab_type": "code",
        "colab": {
          "base_uri": "https://localhost:8080/",
          "height": 170
        },
        "outputId": "3186d9a2-ed33-49f1-bb50-bcc1834796b4"
      },
      "source": [
        "ls -l"
      ],
      "execution_count": 47,
      "outputs": [
        {
          "output_type": "stream",
          "text": [
            "total 66312\n",
            "drwxrwxr-x 2 1001 1001     4096 Sep  4 20:33 \u001b[0m\u001b[01;34mAmazonMusic\u001b[0m/\n",
            "-rw-r--r-- 1 root root 22112728 Sep  4 20:43 AmazonMusic.tar.xz\n",
            "-rw-r--r-- 1 root root 22112728 Sep  4 20:46 AmazonMusic.tar.xz.1\n",
            "-rw-r--r-- 1 root root 22112728 Sep  4 20:48 AmazonMusic.tar.xz.2\n",
            "-rw-r--r-- 1 root root    74684 Sep  4 20:48 map_tilte.npy\n",
            "drwxr-xr-x 1 root root     4096 Aug 27 16:17 \u001b[01;34msample_data\u001b[0m/\n",
            "-rw-r--r-- 1 root root   484253 Sep  4 20:48 test.dat\n",
            "-rw-r--r-- 1 root root   985210 Sep  4 20:48 train.dat\n"
          ],
          "name": "stdout"
        }
      ]
    },
    {
      "cell_type": "markdown",
      "metadata": {
        "id": "2n6LQb5cA1HZ",
        "colab_type": "text"
      },
      "source": [
        "# Case Recommender"
      ]
    },
    {
      "cell_type": "markdown",
      "metadata": {
        "id": "XzzXj3o1A1Hc",
        "colab_type": "text"
      },
      "source": [
        "You could also use:\n",
        "\n",
        "> from caserec.utils.split_database import SplitDatabase\n",
        "\n",
        "> SplitDatabase(input_file=dataset, dir_folds=dir_path, n_splits=10).k_fold_cross_validation()"
      ]
    },
    {
      "cell_type": "markdown",
      "metadata": {
        "id": "bV2yax1HA1Hd",
        "colab_type": "text"
      },
      "source": [
        "### Rating Prediction"
      ]
    },
    {
      "cell_type": "code",
      "metadata": {
        "id": "YK7liINfA1He",
        "colab_type": "code",
        "colab": {
          "base_uri": "https://localhost:8080/",
          "height": 170
        },
        "outputId": "8dd5f560-e485-40b0-91da-b3e06281aaee"
      },
      "source": [
        "from caserec.recommenders.rating_prediction.most_popular import MostPopular\n",
        "\n",
        "MostPopular('train.dat', 'test.dat', 'rp_mostPopular.dat').compute()"
      ],
      "execution_count": 48,
      "outputs": [
        {
          "output_type": "stream",
          "text": [
            "[Case Recommender: Rating Prediction > Most Popular]\n",
            "\n",
            "train data:: 5036 users and 2581 items (34703 interactions) | sparsity:: 99.73%\n",
            "test data:: 4508 users and 2493 items (17093 interactions) | sparsity:: 99.85%\n",
            "\n",
            "prediction_time:: 0.349664 sec\n",
            "\n",
            "\n",
            "Eval:: MAE: 0.744015 RMSE: 1.005638 \n"
          ],
          "name": "stdout"
        }
      ]
    },
    {
      "cell_type": "code",
      "metadata": {
        "id": "n1EcaoRjA1Hi",
        "colab_type": "code",
        "colab": {
          "base_uri": "https://localhost:8080/",
          "height": 204
        },
        "outputId": "8f69e77d-22e1-4987-e672-3dd2c7153a0e"
      },
      "source": [
        "predictions = pd.read_csv('rp_mostPopular.dat', sep='\\t', names=['reviewerID', 'asin', 'rate'])\n",
        "predictions['title'] = predictions.asin.map(asin_title)\n",
        "predictions.head()"
      ],
      "execution_count": 49,
      "outputs": [
        {
          "output_type": "execute_result",
          "data": {
            "text/html": [
              "<div>\n",
              "<style scoped>\n",
              "    .dataframe tbody tr th:only-of-type {\n",
              "        vertical-align: middle;\n",
              "    }\n",
              "\n",
              "    .dataframe tbody tr th {\n",
              "        vertical-align: top;\n",
              "    }\n",
              "\n",
              "    .dataframe thead th {\n",
              "        text-align: right;\n",
              "    }\n",
              "</style>\n",
              "<table border=\"1\" class=\"dataframe\">\n",
              "  <thead>\n",
              "    <tr style=\"text-align: right;\">\n",
              "      <th></th>\n",
              "      <th>reviewerID</th>\n",
              "      <th>asin</th>\n",
              "      <th>rate</th>\n",
              "      <th>title</th>\n",
              "    </tr>\n",
              "  </thead>\n",
              "  <tbody>\n",
              "    <tr>\n",
              "      <th>0</th>\n",
              "      <td>0</td>\n",
              "      <td>2471</td>\n",
              "      <td>3.777778</td>\n",
              "      <td>Jagged Little Pill Acoustic</td>\n",
              "    </tr>\n",
              "    <tr>\n",
              "      <th>1</th>\n",
              "      <td>0</td>\n",
              "      <td>1978</td>\n",
              "      <td>4.583333</td>\n",
              "      <td>La Revancha Del Tango</td>\n",
              "    </tr>\n",
              "    <tr>\n",
              "      <th>2</th>\n",
              "      <td>0</td>\n",
              "      <td>0</td>\n",
              "      <td>4.875000</td>\n",
              "      <td>Memory of Trees</td>\n",
              "    </tr>\n",
              "    <tr>\n",
              "      <th>3</th>\n",
              "      <td>1</td>\n",
              "      <td>1272</td>\n",
              "      <td>4.333333</td>\n",
              "      <td>Ani Difranco</td>\n",
              "    </tr>\n",
              "    <tr>\n",
              "      <th>4</th>\n",
              "      <td>1</td>\n",
              "      <td>667</td>\n",
              "      <td>4.833333</td>\n",
              "      <td>For the Roses</td>\n",
              "    </tr>\n",
              "  </tbody>\n",
              "</table>\n",
              "</div>"
            ],
            "text/plain": [
              "   reviewerID  asin      rate                        title\n",
              "0           0  2471  3.777778  Jagged Little Pill Acoustic\n",
              "1           0  1978  4.583333        La Revancha Del Tango\n",
              "2           0     0  4.875000              Memory of Trees\n",
              "3           1  1272  4.333333                 Ani Difranco\n",
              "4           1   667  4.833333                For the Roses"
            ]
          },
          "metadata": {
            "tags": []
          },
          "execution_count": 49
        }
      ]
    },
    {
      "cell_type": "markdown",
      "metadata": {
        "id": "jR5JDgESA1Hm",
        "colab_type": "text"
      },
      "source": [
        "### Ranking"
      ]
    },
    {
      "cell_type": "code",
      "metadata": {
        "id": "M-rLU15PA1Hn",
        "colab_type": "code",
        "colab": {
          "base_uri": "https://localhost:8080/",
          "height": 187
        },
        "outputId": "2e8dcc95-fe44-4d53-ae43-6fe10337f30c"
      },
      "source": [
        "from caserec.recommenders.item_recommendation.most_popular import MostPopular\n",
        "\n",
        "MostPopular('train.dat', 'test.dat', 'rank_mostPopular.dat').compute(as_table=True, metrics=['NDCG'])"
      ],
      "execution_count": 50,
      "outputs": [
        {
          "output_type": "stream",
          "text": [
            "[Case Recommender: Item Recommendation > Most Popular]\n",
            "\n",
            "train data:: 5036 users and 2581 items (34703 interactions) | sparsity:: 99.73%\n",
            "test data:: 4508 users and 2493 items (17093 interactions) | sparsity:: 99.85%\n",
            "\n",
            "prediction_time:: 96.215000 sec\n",
            "\n",
            "\n",
            "NDCG@1\tNDCG@3\tNDCG@5\tNDCG@10\t\n",
            "0.019299\t0.041359\t0.051351\t0.065469\t\n"
          ],
          "name": "stdout"
        }
      ]
    },
    {
      "cell_type": "code",
      "metadata": {
        "id": "INpBAxt-A1Hq",
        "colab_type": "code",
        "colab": {
          "base_uri": "https://localhost:8080/",
          "height": 359
        },
        "outputId": "e2fc6830-3931-4feb-8102-81b3a1e4b108"
      },
      "source": [
        "ranking = pd.read_csv('rank_mostPopular.dat', sep='\\t', names=['reviewerID', 'asin', 'score'])\n",
        "ranking['title'] = ranking.asin.map(asin_title)\n",
        "ranking.head(10)"
      ],
      "execution_count": 51,
      "outputs": [
        {
          "output_type": "execute_result",
          "data": {
            "text/html": [
              "<div>\n",
              "<style scoped>\n",
              "    .dataframe tbody tr th:only-of-type {\n",
              "        vertical-align: middle;\n",
              "    }\n",
              "\n",
              "    .dataframe tbody tr th {\n",
              "        vertical-align: top;\n",
              "    }\n",
              "\n",
              "    .dataframe thead th {\n",
              "        text-align: right;\n",
              "    }\n",
              "</style>\n",
              "<table border=\"1\" class=\"dataframe\">\n",
              "  <thead>\n",
              "    <tr style=\"text-align: right;\">\n",
              "      <th></th>\n",
              "      <th>reviewerID</th>\n",
              "      <th>asin</th>\n",
              "      <th>score</th>\n",
              "      <th>title</th>\n",
              "    </tr>\n",
              "  </thead>\n",
              "  <tbody>\n",
              "    <tr>\n",
              "      <th>0</th>\n",
              "      <td>0</td>\n",
              "      <td>1770</td>\n",
              "      <td>596.0</td>\n",
              "      <td>The Marshall Mathers LP</td>\n",
              "    </tr>\n",
              "    <tr>\n",
              "      <th>1</th>\n",
              "      <td>0</td>\n",
              "      <td>2039</td>\n",
              "      <td>577.0</td>\n",
              "      <td>The Eminem Show [Limited Edition w/ Bonus DVD]</td>\n",
              "    </tr>\n",
              "    <tr>\n",
              "      <th>2</th>\n",
              "      <td>0</td>\n",
              "      <td>2133</td>\n",
              "      <td>551.0</td>\n",
              "      <td>Get Rich Or Die Tryin</td>\n",
              "    </tr>\n",
              "    <tr>\n",
              "      <th>3</th>\n",
              "      <td>0</td>\n",
              "      <td>169</td>\n",
              "      <td>511.0</td>\n",
              "      <td>All Eyez on Me</td>\n",
              "    </tr>\n",
              "    <tr>\n",
              "      <th>4</th>\n",
              "      <td>0</td>\n",
              "      <td>2212</td>\n",
              "      <td>510.0</td>\n",
              "      <td>Speakerboxxx/ The Love Below</td>\n",
              "    </tr>\n",
              "    <tr>\n",
              "      <th>5</th>\n",
              "      <td>0</td>\n",
              "      <td>992</td>\n",
              "      <td>509.0</td>\n",
              "      <td>Are You Experienced</td>\n",
              "    </tr>\n",
              "    <tr>\n",
              "      <th>6</th>\n",
              "      <td>0</td>\n",
              "      <td>2408</td>\n",
              "      <td>492.0</td>\n",
              "      <td>The Documentary</td>\n",
              "    </tr>\n",
              "    <tr>\n",
              "      <th>7</th>\n",
              "      <td>0</td>\n",
              "      <td>1665</td>\n",
              "      <td>480.0</td>\n",
              "      <td>Toxicity</td>\n",
              "    </tr>\n",
              "    <tr>\n",
              "      <th>8</th>\n",
              "      <td>0</td>\n",
              "      <td>1955</td>\n",
              "      <td>470.0</td>\n",
              "      <td>Blueprint</td>\n",
              "    </tr>\n",
              "    <tr>\n",
              "      <th>9</th>\n",
              "      <td>0</td>\n",
              "      <td>459</td>\n",
              "      <td>467.0</td>\n",
              "      <td>Thriller</td>\n",
              "    </tr>\n",
              "  </tbody>\n",
              "</table>\n",
              "</div>"
            ],
            "text/plain": [
              "   reviewerID  asin  score                                           title\n",
              "0           0  1770  596.0                         The Marshall Mathers LP\n",
              "1           0  2039  577.0  The Eminem Show [Limited Edition w/ Bonus DVD]\n",
              "2           0  2133  551.0                           Get Rich Or Die Tryin\n",
              "3           0   169  511.0                                  All Eyez on Me\n",
              "4           0  2212  510.0                    Speakerboxxx/ The Love Below\n",
              "5           0   992  509.0                             Are You Experienced\n",
              "6           0  2408  492.0                                 The Documentary\n",
              "7           0  1665  480.0                                        Toxicity\n",
              "8           0  1955  470.0                                       Blueprint\n",
              "9           0   459  467.0                                        Thriller"
            ]
          },
          "metadata": {
            "tags": []
          },
          "execution_count": 51
        }
      ]
    },
    {
      "cell_type": "code",
      "metadata": {
        "id": "5Y9tzYdEA1Hz",
        "colab_type": "code",
        "colab": {
          "base_uri": "https://localhost:8080/",
          "height": 173
        },
        "outputId": "4426df3a-0392-43f6-b0ef-586ea1cfff57"
      },
      "source": [
        "train[train.reviewerID == 0]"
      ],
      "execution_count": 52,
      "outputs": [
        {
          "output_type": "execute_result",
          "data": {
            "text/html": [
              "<div>\n",
              "<style scoped>\n",
              "    .dataframe tbody tr th:only-of-type {\n",
              "        vertical-align: middle;\n",
              "    }\n",
              "\n",
              "    .dataframe tbody tr th {\n",
              "        vertical-align: top;\n",
              "    }\n",
              "\n",
              "    .dataframe thead th {\n",
              "        text-align: right;\n",
              "    }\n",
              "</style>\n",
              "<table border=\"1\" class=\"dataframe\">\n",
              "  <thead>\n",
              "    <tr style=\"text-align: right;\">\n",
              "      <th></th>\n",
              "      <th>reviewerID</th>\n",
              "      <th>asin</th>\n",
              "      <th>overall</th>\n",
              "      <th>title</th>\n",
              "    </tr>\n",
              "  </thead>\n",
              "  <tbody>\n",
              "    <tr>\n",
              "      <th>18167</th>\n",
              "      <td>0</td>\n",
              "      <td>959</td>\n",
              "      <td>5</td>\n",
              "      <td>Ray of Light</td>\n",
              "    </tr>\n",
              "    <tr>\n",
              "      <th>19290</th>\n",
              "      <td>0</td>\n",
              "      <td>1011</td>\n",
              "      <td>5</td>\n",
              "      <td>Axis</td>\n",
              "    </tr>\n",
              "    <tr>\n",
              "      <th>27005</th>\n",
              "      <td>0</td>\n",
              "      <td>1523</td>\n",
              "      <td>5</td>\n",
              "      <td>Experience Hendrix</td>\n",
              "    </tr>\n",
              "    <tr>\n",
              "      <th>37443</th>\n",
              "      <td>0</td>\n",
              "      <td>2014</td>\n",
              "      <td>2</td>\n",
              "      <td>Come Away with Me</td>\n",
              "    </tr>\n",
              "  </tbody>\n",
              "</table>\n",
              "</div>"
            ],
            "text/plain": [
              "       reviewerID  asin  overall               title\n",
              "18167           0   959        5        Ray of Light\n",
              "19290           0  1011        5                Axis\n",
              "27005           0  1523        5  Experience Hendrix\n",
              "37443           0  2014        2   Come Away with Me"
            ]
          },
          "metadata": {
            "tags": []
          },
          "execution_count": 52
        }
      ]
    }
  ]
}